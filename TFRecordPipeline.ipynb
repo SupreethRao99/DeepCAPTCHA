{
  "nbformat": 4,
  "nbformat_minor": 0,
  "metadata": {
    "colab": {
      "name": "TFRecordPipeline.ipynb",
      "private_outputs": true,
      "provenance": [],
      "authorship_tag": "ABX9TyM9P7hTIH+hsQyXOt+em7CF",
      "include_colab_link": true
    },
    "kernelspec": {
      "name": "python3",
      "display_name": "Python 3"
    },
    "language_info": {
      "name": "python"
    }
  },
  "cells": [
    {
      "cell_type": "markdown",
      "metadata": {
        "id": "view-in-github",
        "colab_type": "text"
      },
      "source": [
        "<a href=\"https://colab.research.google.com/github/SupreethRao99/DeepCAPTCHA/blob/main/TFRecordPipeline.ipynb\" target=\"_parent\"><img src=\"https://colab.research.google.com/assets/colab-badge.svg\" alt=\"Open In Colab\"/></a>"
      ]
    },
    {
      "cell_type": "markdown",
      "metadata": {
        "id": "3oxG-9Zx9BYt"
      },
      "source": [
        "This Notebook contains a protoype pipeline to convert datasets comprising of images into the TFRecord format. This is done so speed up training and to use TPU's for training. "
      ]
    },
    {
      "cell_type": "code",
      "metadata": {
        "id": "vDuHm2WF8I6F"
      },
      "source": [
        "data_dir = '/tmp/English/Fnt'\n",
        "\n",
        "from functools import partial\n",
        "\n",
        "IMG_HEIGHT = 32\n",
        "IMG_WIDTH = 32\n",
        "\n",
        "load_split = partial(\n",
        "    tf.keras.preprocessing.image_dataset_from_directory,\n",
        "    data_dir,\n",
        "    validation_split=0.2,\n",
        "    shuffle=True,\n",
        "    seed=123,\n",
        "    image_size=(IMG_HEIGHT, IMG_WIDTH),\n",
        "    batch_size=1,\n",
        ")\n",
        "\n",
        "ds_train = load_split(subset='training')\n",
        "ds_valid = load_split(subset='validation')\n",
        "\n",
        "class_names = ds_train.class_names\n",
        "print(\"\\nClass names: {}\".format(class_names))"
      ],
      "execution_count": null,
      "outputs": []
    },
    {
      "cell_type": "code",
      "metadata": {
        "id": "-Y2O-tmF-_U6"
      },
      "source": [
        "def make_example(encoded_image, label):\n",
        "    image_feature = Feature(\n",
        "        bytes_list=BytesList(value=[\n",
        "            encoded_image,\n",
        "        ]),\n",
        "    )\n",
        "    label_feature = Feature(\n",
        "        int64_list=Int64List(value=[\n",
        "            label,\n",
        "        ])\n",
        "    )\n",
        "\n",
        "    features = Features(feature={\n",
        "        'image': image_feature,\n",
        "        'label': label_feature,\n",
        "    })\n",
        "    \n",
        "    example = Example(features=features)\n",
        "    \n",
        "    return example.SerializeToString()"
      ],
      "execution_count": null,
      "outputs": []
    },
    {
      "cell_type": "code",
      "metadata": {
        "id": "QO8v9cZA_Dl4"
      },
      "source": [
        "os.mkdir('/tmp/working')\n",
        "os.mkdir('/tmp/working/training')\n",
        "NUM_SHARDS = 32\n",
        "PATH = '/tmp/working/training/shard_{:02d}.tfrecord'\n",
        "\n",
        "for shard in range(NUM_SHARDS):\n",
        "    ds_shard = (\n",
        "        ds_train_encoded\n",
        "        .shard(NUM_SHARDS, shard)\n",
        "        .as_numpy_iterator()\n",
        "    )\n",
        "    with tf.io.TFRecordWriter(path=PATH.format(shard)) as f:\n",
        "        for encoded_image, label in ds_shard:\n",
        "            example = make_example(encoded_image, label)\n",
        "            f.write(example)"
      ],
      "execution_count": null,
      "outputs": []
    },
    {
      "cell_type": "code",
      "metadata": {
        "id": "yrc-6IlI_HeF"
      },
      "source": [
        "!mkdir '/tmp/working/validation'\n",
        "\n",
        "NUM_SHARDS = 8\n",
        "PATH = '/tmp/working/validation/shard_{:02d}.tfrecord'\n",
        "\n",
        "for shard in range(NUM_SHARDS):\n",
        "    ds_shard = (\n",
        "        ds_valid_encoded\n",
        "        .shard(NUM_SHARDS, shard)\n",
        "        .as_numpy_iterator()\n",
        "    )\n",
        "    with tf.io.TFRecordWriter(path=PATH.format(shard)) as f:\n",
        "        for encoded_image, label in ds_shard:\n",
        "            example = make_example(encoded_image, label)\n",
        "            f.write(example)"
      ],
      "execution_count": null,
      "outputs": []
    },
    {
      "cell_type": "code",
      "metadata": {
        "id": "viR3v9hZ_IHG"
      },
      "source": [
        "train_filenames = tf.io.gfile.glob('/tmp/working/training*.tfrec')\n",
        "validation_filenames = tf.io.gfile.glob('/tmp/working/validation*.tfrec')\n",
        "\n",
        "dataset = tf.data.TFRecordDataset(train_filenames)"
      ],
      "execution_count": null,
      "outputs": []
    },
    {
      "cell_type": "code",
      "metadata": {
        "id": "Jw5Zk8vt_J-e"
      },
      "source": [
        "%cp -av \"/tmp/working\" \"/content/drive/MyDrive/\""
      ],
      "execution_count": null,
      "outputs": []
    }
  ]
}