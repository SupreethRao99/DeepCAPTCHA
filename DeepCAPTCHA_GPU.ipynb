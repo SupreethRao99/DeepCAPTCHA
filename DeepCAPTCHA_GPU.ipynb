{
  "nbformat": 4,
  "nbformat_minor": 0,
  "metadata": {
    "accelerator": "GPU",
    "colab": {
      "name": "DeepCAPTCHA-GPU.ipynb",
      "provenance": [],
      "mount_file_id": "1oahmAcbdXZS0wB0bV6MGXCzGLY97YY68",
      "authorship_tag": "ABX9TyN2LZzZsN01kvHrkswiTbMk",
      "include_colab_link": true
    },
    "kernelspec": {
      "display_name": "Python 3",
      "name": "python3"
    },
    "language_info": {
      "name": "python"
    }
  },
  "cells": [
    {
      "cell_type": "markdown",
      "metadata": {
        "id": "view-in-github",
        "colab_type": "text"
      },
      "source": [
        "<a href=\"https://colab.research.google.com/github/SupreethRao99/DeepCAPTCHA/blob/main/DeepCAPTCHA_GPU.ipynb\" target=\"_parent\"><img src=\"https://colab.research.google.com/assets/colab-badge.svg\" alt=\"Open In Colab\"/></a>"
      ]
    },
    {
      "cell_type": "markdown",
      "metadata": {
        "id": "ndHc1SnuprQ3"
      },
      "source": [
        "# DeepCAPTCHA\n",
        "DeepCAPTHA is a ResNet architecture based convolutional neural network (CNN) trained on the [Chars74K-Fonts](http://www.ee.surrey.ac.uk/CVSSP/demos/chars74k/#download) Dataset. It has been built as part of a larger project which attempts to defeat simple CAPTCHAs. The Network trained in this notebook achieves a training accuracy of 92.5% and a validation accuracy of 90.41%."
      ]
    },
    {
      "cell_type": "markdown",
      "metadata": {
        "id": "uw1eAPbTU02E"
      },
      "source": [
        "The [dataset](https://www.kaggle.com/supreethrao/chars74kdigitalenglishfont) used in this notebook can also be found on kaggle"
      ]
    },
    {
      "cell_type": "markdown",
      "metadata": {
        "id": "mTI2gVDhgRjv"
      },
      "source": [
        "## Setup and Preprocessing"
      ]
    },
    {
      "cell_type": "code",
      "metadata": {
        "id": "pdqEFYv93qM9"
      },
      "source": [
        "# importing the required libraries\n",
        "import numpy as np\n",
        "import os \n",
        "import PIL\n",
        "import PIL.Image\n",
        "import tensorflow as tf\n",
        "import tensorflow_datasets as tfds\n",
        "from tqdm.notebook import tqdm, trange\n",
        "from google.colab import drive\n",
        "import zipfile\n",
        "import random\n",
        "from shutil import copyfile"
      ],
      "execution_count": null,
      "outputs": []
    },
    {
      "cell_type": "code",
      "metadata": {
        "id": "9jsIKUNGgYjG"
      },
      "source": [
        "# setting up Weights and Biases for experiment tracking\n",
        "%%capture\n",
        "!pip intall wandb\n",
        "\n",
        "import wandb\n",
        "from wandb.keras import WandbCallback\n",
        "wandb.login()"
      ],
      "execution_count": null,
      "outputs": []
    },
    {
      "cell_type": "code",
      "metadata": {
        "id": "BvVdgXN4guLl"
      },
      "source": [
        "# Configuring Hyperparameters\n",
        "\n",
        "run = wandb.init(project='DeepCAPTCHA',\n",
        "           config={\n",
        "              \"epochs\": 50,\n",
        "              \"batch_size\": 32,\n",
        "              \"img_height\":32,\n",
        "              \"img_width\":32,\n",
        "              \"validation_split\":0.2,\n",
        "              \"Dropout\":0.6,\n",
        "              \"num_classes\":62,\n",
        "              \"loss_function\": \"sparse_categorical_crossentropy\",\n",
        "              \"architecture\": \"ResNet \",\n",
        "              \"dataset\": \"English-CAPTCHA\"\n",
        "           },\n",
        "           )\n",
        "config = wandb.config"
      ],
      "execution_count": null,
      "outputs": []
    },
    {
      "cell_type": "markdown",
      "metadata": {
        "id": "UwnMa_Eog8ND"
      },
      "source": [
        "## Download the Dataset"
      ]
    },
    {
      "cell_type": "markdown",
      "metadata": {
        "id": "vL1T5sO2rAiF"
      },
      "source": [
        "The dataset is stored on google drive. The dataset is then loaded onto colab and unzipped."
      ]
    },
    {
      "cell_type": "code",
      "metadata": {
        "colab": {
          "base_uri": "https://localhost:8080/"
        },
        "id": "XvTsFgYPCQBg",
        "outputId": "da3e2683-389c-412c-d5fe-72fba8c181ea"
      },
      "source": [
        "drive.mount('/content/drive') "
      ],
      "execution_count": null,
      "outputs": [
        {
          "output_type": "stream",
          "text": [
            "Drive already mounted at /content/drive; to attempt to forcibly remount, call drive.mount(\"/content/drive\", force_remount=True).\n"
          ],
          "name": "stdout"
        }
      ]
    },
    {
      "cell_type": "code",
      "metadata": {
        "id": "VZxhm3R3BuPZ"
      },
      "source": [
        "zip_ref = zipfile.ZipFile(\"/content/drive/MyDrive/English.zip\", 'r')\n",
        "zip_ref.extractall(\"/tmp\")\n",
        "zip_ref.close()"
      ],
      "execution_count": null,
      "outputs": []
    },
    {
      "cell_type": "code",
      "metadata": {
        "id": "d5Sies0tLdjh"
      },
      "source": [
        "# Training and testing directories are created with directory name being the\n",
        "# label of the class. eg:images of the letter 'A' will be in directory 'A'\n",
        "# similarly images of letter 'a' will be in directory 'a'.\n",
        "\n",
        "# Note that directory names are case-sensitive.\n",
        "os.mkdir('/tmp/CAPTCHA')\n",
        "\n",
        "for i in tqdm(range(0,62)):\n",
        "  try:\n",
        "    if i>= 0 and i<10: # for numbers 0-9\n",
        "      os.mkdir('/tmp/CAPTCHA/'+chr(i+48))\n",
        "\n",
        "    if i>= 10 and i<36: # for alphabets A-Z\n",
        "      os.mkdir('/tmp/CAPTCHA/'+chr(i-10+65))\n",
        "      \n",
        "    if i>=36 and i<62: # for alphabets a-z\n",
        "      os.mkdir('/tmp/CAPTCHA/'+chr(i-36+97))\n",
        "      \n",
        "  except OSError:\n",
        "    print('directory creation failed')\n",
        "    pass"
      ],
      "execution_count": null,
      "outputs": []
    },
    {
      "cell_type": "markdown",
      "metadata": {
        "id": "nKMIoAz0hd3_"
      },
      "source": [
        "we clean up the downloaded data and move the files into their corresponding directories under the root directory of `tmp/CAPTCHA`"
      ]
    },
    {
      "cell_type": "code",
      "metadata": {
        "id": "WXLMOLZXhPu4"
      },
      "source": [
        "source = '/tmp/English/Fnt/'\n",
        "dst = '/tmp/CAPTCHA/'\n",
        "\n",
        "for folder in tqdm(os.listdir(source)):\n",
        "  if folder[0] in os.listdir(dst):\n",
        "    for fname in os.listdir(source+str(folder)):\n",
        "      shutil.copyfile(source+folder+'/'+str(fname),dst+str(folder[0])+'/'+str(fname))"
      ],
      "execution_count": null,
      "outputs": []
    },
    {
      "cell_type": "markdown",
      "metadata": {
        "id": "cSvUg3QzrClp"
      },
      "source": [
        "# Creation of Model\n",
        "\n"
      ]
    },
    {
      "cell_type": "markdown",
      "metadata": {
        "id": "2ZwSPjmMY1G3"
      },
      "source": [
        "# Load data using `tf.keras.preprocessing`"
      ]
    },
    {
      "cell_type": "code",
      "metadata": {
        "id": "iE65sj6rZRyM"
      },
      "source": [
        "batch_size = config.batch_size\n",
        "img_height = config.img_height\n",
        "img_width = config.img_width\n",
        "\n",
        "data_dir ='/tmp/CAPTCHA/'"
      ],
      "execution_count": null,
      "outputs": []
    },
    {
      "cell_type": "code",
      "metadata": {
        "colab": {
          "base_uri": "https://localhost:8080/"
        },
        "id": "AhDdha0QZ0eq",
        "outputId": "98ba7aa1-724d-476b-d065-650121cb715a"
      },
      "source": [
        "train_ds = tf.keras.preprocessing.image_dataset_from_directory(\n",
        "  data_dir,\n",
        "  validation_split=config.validation_split,\n",
        "  subset=\"training\",\n",
        "  seed = 123,\n",
        "  image_size=(img_height, img_width),\n",
        "  batch_size=batch_size)"
      ],
      "execution_count": null,
      "outputs": [
        {
          "output_type": "stream",
          "text": [
            "Found 62992 files belonging to 62 classes.\n",
            "Using 50394 files for training.\n"
          ],
          "name": "stdout"
        }
      ]
    },
    {
      "cell_type": "code",
      "metadata": {
        "colab": {
          "base_uri": "https://localhost:8080/"
        },
        "id": "ZlD9Co_RbHhq",
        "outputId": "528fd832-6717-4041-85e4-7f3a927b5a2b"
      },
      "source": [
        "val_ds = tf.keras.preprocessing.image_dataset_from_directory(\n",
        "  data_dir,\n",
        "  validation_split=config.validation_split,\n",
        "  subset=\"validation\",\n",
        "  seed=123,\n",
        "  image_size=(img_height, img_width),\n",
        "  batch_size=batch_size)"
      ],
      "execution_count": null,
      "outputs": [
        {
          "output_type": "stream",
          "text": [
            "Found 62992 files belonging to 62 classes.\n",
            "Using 12598 files for validation.\n"
          ],
          "name": "stdout"
        }
      ]
    },
    {
      "cell_type": "code",
      "metadata": {
        "colab": {
          "base_uri": "https://localhost:8080/"
        },
        "id": "DPwSB-VKbLo8",
        "outputId": "ed6d108e-e403-4fe0-e072-08dd8a876cf8"
      },
      "source": [
        "class_names = train_ds.class_names\n",
        "print(class_names)"
      ],
      "execution_count": null,
      "outputs": [
        {
          "output_type": "stream",
          "text": [
            "['0', '1', '2', '3', '4', '5', '6', '7', '8', '9', 'A', 'B', 'C', 'D', 'E', 'F', 'G', 'H', 'I', 'J', 'K', 'L', 'M', 'N', 'O', 'P', 'Q', 'R', 'S', 'T', 'U', 'V', 'W', 'X', 'Y', 'Z', 'a', 'b', 'c', 'd', 'e', 'f', 'g', 'h', 'i', 'j', 'k', 'l', 'm', 'n', 'o', 'p', 'q', 'r', 's', 't', 'u', 'v', 'w', 'x', 'y', 'z']\n"
          ],
          "name": "stdout"
        }
      ]
    },
    {
      "cell_type": "markdown",
      "metadata": {
        "id": "WNrje7Wcbaw7"
      },
      "source": [
        "## Visualize the data"
      ]
    },
    {
      "cell_type": "code",
      "metadata": {
        "colab": {
          "base_uri": "https://localhost:8080/",
          "height": 591
        },
        "id": "gHZYg5p3bdPE",
        "outputId": "5db48753-2cc3-4ae3-96a2-a6695926d303"
      },
      "source": [
        "import matplotlib.pyplot as plt\n",
        "\n",
        "plt.figure(figsize = (10, 10))\n",
        "for images, labels in train_ds.take(1):\n",
        "  for i in range(9):\n",
        "    ax = plt.subplot(3, 3, i+1)\n",
        "    plt.imshow(images[i].numpy().astype('uint8'))\n",
        "    plt.title(class_names[labels[i]])\n",
        "    plt.axis(\"off\")"
      ],
      "execution_count": null,
      "outputs": [
        {
          "output_type": "display_data",
          "data": {
            "image/png": "[encoded data removed]",
            "text/plain": [
              "<Figure size 720x720 with 9 Axes>"
            ]
          },
          "metadata": {
            "tags": [],
            "needs_background": "light"
          }
        }
      ]
    },
    {
      "cell_type": "code",
      "metadata": {
        "colab": {
          "base_uri": "https://localhost:8080/"
        },
        "id": "4joApM7DcNg0",
        "outputId": "e71a44f8-e17e-426e-9750-c7cde16de058"
      },
      "source": [
        "for image_batch, labels_batch in train_ds:\n",
        "  print(image_batch.shape)\n",
        "  print(labels_batch.shape)\n",
        "  break"
      ],
      "execution_count": null,
      "outputs": [
        {
          "output_type": "stream",
          "text": [
            "(32, 32, 32, 3)\n",
            "(32,)\n"
          ],
          "name": "stdout"
        }
      ]
    },
    {
      "cell_type": "markdown",
      "metadata": {
        "id": "Lg6l-8Zfc4s_"
      },
      "source": [
        "## Configure the dataset for performance"
      ]
    },
    {
      "cell_type": "code",
      "metadata": {
        "id": "bXIryzwRc3uI"
      },
      "source": [
        "AUTOTUNE = tf.data.AUTOTUNE\n",
        "\n",
        "train_ds = train_ds.cache().prefetch(buffer_size=AUTOTUNE)\n",
        "val_ds = val_ds.cache().prefetch(buffer_size=AUTOTUNE)"
      ],
      "execution_count": null,
      "outputs": []
    },
    {
      "cell_type": "markdown",
      "metadata": {
        "id": "3n_Ac88ls0bX"
      },
      "source": [
        "## The ResNet Model\n",
        "the model described below uses a custom model based on the [ResNet architecture](https://arxiv.org/pdf/1512.03385.pdf) "
      ]
    },
    {
      "cell_type": "code",
      "metadata": {
        "id": "NEHqNmrg588-"
      },
      "source": [
        "import keras\n",
        "from functools import partial\n",
        "DefaultConv2D = partial(keras.layers.Conv2D, kernel_size=3, strides=1,\n",
        "                        padding=\"SAME\", use_bias=False)\n",
        "\n",
        "class ResidualUnit(keras.layers.Layer):\n",
        "    def __init__(self, filters, strides=1, activation=\"relu\", **kwargs):\n",
        "        super().__init__(**kwargs)\n",
        "        self.activation = keras.activations.get(activation)\n",
        "        self.main_layers = [\n",
        "            DefaultConv2D(filters, strides=strides),\n",
        "            keras.layers.BatchNormalization(),\n",
        "            self.activation,\n",
        "            DefaultConv2D(filters),\n",
        "            keras.layers.BatchNormalization()]\n",
        "        self.skip_layers = []\n",
        "        if strides > 1:\n",
        "            self.skip_layers = [\n",
        "                DefaultConv2D(filters, kernel_size=1, strides=strides),\n",
        "                keras.layers.BatchNormalization()]\n",
        "\n",
        "    def get_config(self):\n",
        "      cfg = super().get_config()\n",
        "      return cfg  \n",
        "\n",
        "    def call(self, inputs):\n",
        "        Z = inputs\n",
        "        for layer in self.main_layers:\n",
        "            Z = layer(Z)\n",
        "        skip_Z = inputs\n",
        "        for layer in self.skip_layers:\n",
        "            skip_Z = layer(skip_Z)\n",
        "        return self.activation(Z + skip_Z)"
      ],
      "execution_count": null,
      "outputs": []
    },
    {
      "cell_type": "code",
      "metadata": {
        "id": "aX2FYSbN8Uf7"
      },
      "source": [
        "def createmodel():\n",
        "  model = keras.models.Sequential()\n",
        "  # Augments the image\n",
        "  model.add(tf.keras.layers.experimental.preprocessing.Rescaling(1./255))\n",
        "  model.add(tf.keras.layers.experimental.preprocessing.RandomRotation(0.125))\n",
        "\n",
        "  model.add(DefaultConv2D(64, kernel_size=4, strides=2,\n",
        "                        input_shape=[32, 32, 3]))\n",
        "  model.add(keras.layers.BatchNormalization())\n",
        "  model.add(keras.layers.Activation(\"relu\"))\n",
        "  model.add(keras.layers.MaxPool2D(pool_size=3, strides=2, padding=\"SAME\"))\n",
        "  prev_filters = 64\n",
        "  for filters in [64] * 3 + [128] * 2 :\n",
        "      strides = 1 if filters == prev_filters else 2\n",
        "      model.add(ResidualUnit(filters, strides=strides))\n",
        "      prev_filters = filters\n",
        "  model.add(keras.layers.GlobalAvgPool2D())\n",
        "  model.add(keras.layers.Flatten())\n",
        "  model.add(keras.layers.Dropout(config.Dropout))\n",
        "  model.add(keras.layers.Dense(config.num_classes))\n",
        "  \n",
        "  return model"
      ],
      "execution_count": null,
      "outputs": []
    },
    {
      "cell_type": "code",
      "metadata": {
        "id": "k99UkoP6kerF"
      },
      "source": [
        "# performance scheduling is used to reduce learning rate\n",
        "# to improve model training accuracy\n",
        "\n",
        "learning_rate_reduction = tf.keras.callbacks.ReduceLROnPlateau(\n",
        "    monitor='val_accuracy', factor=0.6, patience=2,min_lr=0.000001,cooldown=2,mode='auto')"
      ],
      "execution_count": null,
      "outputs": []
    },
    {
      "cell_type": "code",
      "metadata": {
        "id": "365RSafnkfdz",
        "colab": {
          "base_uri": "https://localhost:8080/"
        },
        "outputId": "c108d69e-b193-4b75-a96b-04159c8c01d4"
      },
      "source": [
        "model = createmodel()\n",
        "model.compile(loss=tf.losses.SparseCategoricalCrossentropy(from_logits=True),\n",
        "              optimizer=\"nadam\",\n",
        "              metrics=[\"accuracy\"])\n",
        "\n",
        "model.fit(train_ds, epochs = config.epochs,\n",
        "                    validation_data=val_ds,\n",
        "            callbacks=[WandbCallback(), learning_rate_reduction])"
      ],
      "execution_count": null,
      "outputs": [
        {
          "output_type": "stream",
          "text": [
            "Epoch 1/50\n",
            "1575/1575 [==============================] - 96s 23ms/step - loss: 2.3506 - accuracy: 0.3994 - val_loss: 1.3905 - val_accuracy: 0.5880\n"
          ],
          "name": "stdout"
        },
        {
          "output_type": "stream",
          "text": [
            "\u001b[34m\u001b[1mwandb\u001b[0m: \u001b[32m\u001b[41mERROR\u001b[0m Can't save model, h5py returned error: Layer ModuleWrapper has arguments in `__init__` and therefore must override `get_config`.\n"
          ],
          "name": "stderr"
        },
        {
          "output_type": "stream",
          "text": [
            "Epoch 2/50\n",
            "1575/1575 [==============================] - 18s 12ms/step - loss: 0.7847 - accuracy: 0.7495 - val_loss: 0.7025 - val_accuracy: 0.7562\n",
            "Epoch 3/50\n",
            "1575/1575 [==============================] - 19s 12ms/step - loss: 0.6489 - accuracy: 0.7813 - val_loss: 0.7438 - val_accuracy: 0.7633\n",
            "Epoch 4/50\n",
            "1575/1575 [==============================] - 19s 12ms/step - loss: 0.5871 - accuracy: 0.7903 - val_loss: 0.5234 - val_accuracy: 0.8151\n",
            "Epoch 5/50\n",
            "1575/1575 [==============================] - 18s 12ms/step - loss: 0.5468 - accuracy: 0.8049 - val_loss: 0.4664 - val_accuracy: 0.8309\n",
            "Epoch 6/50\n",
            "1575/1575 [==============================] - 19s 12ms/step - loss: 0.5083 - accuracy: 0.8155 - val_loss: 0.4895 - val_accuracy: 0.8331\n",
            "Epoch 7/50\n",
            "1575/1575 [==============================] - 19s 12ms/step - loss: 0.4806 - accuracy: 0.8246 - val_loss: 0.4711 - val_accuracy: 0.8318\n",
            "Epoch 8/50\n",
            "1575/1575 [==============================] - 18s 11ms/step - loss: 0.4583 - accuracy: 0.8328 - val_loss: 0.4149 - val_accuracy: 0.8478\n",
            "Epoch 9/50\n",
            "1575/1575 [==============================] - 18s 11ms/step - loss: 0.4421 - accuracy: 0.8342 - val_loss: 0.3743 - val_accuracy: 0.8559\n",
            "Epoch 10/50\n",
            "1575/1575 [==============================] - 19s 12ms/step - loss: 0.4222 - accuracy: 0.8425 - val_loss: 0.4526 - val_accuracy: 0.8421\n",
            "Epoch 11/50\n",
            "1575/1575 [==============================] - 18s 12ms/step - loss: 0.4036 - accuracy: 0.8474 - val_loss: 0.4380 - val_accuracy: 0.8474\n",
            "Epoch 12/50\n",
            "1575/1575 [==============================] - 18s 11ms/step - loss: 0.3650 - accuracy: 0.8579 - val_loss: 0.3201 - val_accuracy: 0.8736\n",
            "Epoch 13/50\n",
            "1575/1575 [==============================] - 19s 12ms/step - loss: 0.3443 - accuracy: 0.8660 - val_loss: 0.3406 - val_accuracy: 0.8699\n",
            "Epoch 14/50\n",
            "1575/1575 [==============================] - 19s 12ms/step - loss: 0.3302 - accuracy: 0.8699 - val_loss: 0.3133 - val_accuracy: 0.8778\n",
            "Epoch 15/50\n",
            "1575/1575 [==============================] - 19s 12ms/step - loss: 0.3234 - accuracy: 0.8716 - val_loss: 0.3077 - val_accuracy: 0.8778\n",
            "Epoch 16/50\n",
            "1575/1575 [==============================] - 19s 12ms/step - loss: 0.3125 - accuracy: 0.8765 - val_loss: 0.3251 - val_accuracy: 0.8748\n",
            "Epoch 17/50\n",
            "1575/1575 [==============================] - 19s 12ms/step - loss: 0.2875 - accuracy: 0.8820 - val_loss: 0.2877 - val_accuracy: 0.8843\n",
            "Epoch 18/50\n",
            "1575/1575 [==============================] - 19s 12ms/step - loss: 0.2758 - accuracy: 0.8869 - val_loss: 0.2828 - val_accuracy: 0.8855\n",
            "Epoch 19/50\n",
            "1575/1575 [==============================] - 19s 12ms/step - loss: 0.2709 - accuracy: 0.8880 - val_loss: 0.2811 - val_accuracy: 0.8844\n",
            "Epoch 20/50\n",
            "1575/1575 [==============================] - 18s 12ms/step - loss: 0.2655 - accuracy: 0.8888 - val_loss: 0.2825 - val_accuracy: 0.8879\n",
            "Epoch 21/50\n",
            "1575/1575 [==============================] - 18s 12ms/step - loss: 0.2619 - accuracy: 0.8914 - val_loss: 0.2857 - val_accuracy: 0.8820\n",
            "Epoch 22/50\n",
            "1575/1575 [==============================] - 20s 13ms/step - loss: 0.2535 - accuracy: 0.8933 - val_loss: 0.2783 - val_accuracy: 0.8888\n",
            "Epoch 23/50\n",
            "1575/1575 [==============================] - 19s 12ms/step - loss: 0.2525 - accuracy: 0.8946 - val_loss: 0.2861 - val_accuracy: 0.8843\n",
            "Epoch 24/50\n",
            "1575/1575 [==============================] - 18s 12ms/step - loss: 0.2464 - accuracy: 0.8968 - val_loss: 0.2829 - val_accuracy: 0.8863\n",
            "Epoch 25/50\n",
            "1575/1575 [==============================] - 19s 12ms/step - loss: 0.2384 - accuracy: 0.8977 - val_loss: 0.2683 - val_accuracy: 0.8941\n",
            "Epoch 26/50\n",
            "1575/1575 [==============================] - 19s 12ms/step - loss: 0.2306 - accuracy: 0.9023 - val_loss: 0.2747 - val_accuracy: 0.8892\n",
            "Epoch 27/50\n",
            "1575/1575 [==============================] - 18s 11ms/step - loss: 0.2231 - accuracy: 0.9050 - val_loss: 0.2653 - val_accuracy: 0.8900\n",
            "Epoch 28/50\n",
            "1575/1575 [==============================] - 18s 12ms/step - loss: 0.2160 - accuracy: 0.9068 - val_loss: 0.2537 - val_accuracy: 0.8971\n",
            "Epoch 29/50\n",
            "1575/1575 [==============================] - 19s 12ms/step - loss: 0.2075 - accuracy: 0.9114 - val_loss: 0.2579 - val_accuracy: 0.8959\n",
            "Epoch 30/50\n",
            "1575/1575 [==============================] - 18s 12ms/step - loss: 0.2055 - accuracy: 0.9119 - val_loss: 0.2543 - val_accuracy: 0.8966\n",
            "Epoch 31/50\n",
            "1575/1575 [==============================] - 18s 12ms/step - loss: 0.1997 - accuracy: 0.9139 - val_loss: 0.2504 - val_accuracy: 0.8982\n",
            "Epoch 32/50\n",
            "1575/1575 [==============================] - 19s 12ms/step - loss: 0.1987 - accuracy: 0.9157 - val_loss: 0.2512 - val_accuracy: 0.8973\n",
            "Epoch 33/50\n",
            "1575/1575 [==============================] - 19s 12ms/step - loss: 0.1967 - accuracy: 0.9146 - val_loss: 0.2517 - val_accuracy: 0.9008\n",
            "Epoch 34/50\n",
            "1575/1575 [==============================] - 19s 12ms/step - loss: 0.1893 - accuracy: 0.9180 - val_loss: 0.2527 - val_accuracy: 0.9014\n",
            "Epoch 35/50\n",
            "1575/1575 [==============================] - 18s 12ms/step - loss: 0.1914 - accuracy: 0.9184 - val_loss: 0.2536 - val_accuracy: 0.9001\n",
            "Epoch 36/50\n",
            "1575/1575 [==============================] - 18s 11ms/step - loss: 0.1880 - accuracy: 0.9190 - val_loss: 0.2549 - val_accuracy: 0.9008\n",
            "Epoch 37/50\n",
            "1575/1575 [==============================] - 19s 12ms/step - loss: 0.1878 - accuracy: 0.9188 - val_loss: 0.2499 - val_accuracy: 0.9018\n",
            "Epoch 38/50\n",
            "1575/1575 [==============================] - 19s 12ms/step - loss: 0.1860 - accuracy: 0.9209 - val_loss: 0.2507 - val_accuracy: 0.9013\n",
            "Epoch 39/50\n",
            "1575/1575 [==============================] - 18s 11ms/step - loss: 0.1853 - accuracy: 0.9223 - val_loss: 0.2533 - val_accuracy: 0.9012\n",
            "Epoch 40/50\n",
            "1575/1575 [==============================] - 18s 12ms/step - loss: 0.1817 - accuracy: 0.9210 - val_loss: 0.2492 - val_accuracy: 0.9017\n",
            "Epoch 41/50\n",
            "1575/1575 [==============================] - 19s 12ms/step - loss: 0.1822 - accuracy: 0.9221 - val_loss: 0.2514 - val_accuracy: 0.9012\n",
            "Epoch 42/50\n",
            "1575/1575 [==============================] - 18s 11ms/step - loss: 0.1809 - accuracy: 0.9230 - val_loss: 0.2489 - val_accuracy: 0.9025\n",
            "Epoch 43/50\n",
            "1575/1575 [==============================] - 18s 11ms/step - loss: 0.1807 - accuracy: 0.9220 - val_loss: 0.2493 - val_accuracy: 0.9050\n",
            "Epoch 44/50\n",
            "1575/1575 [==============================] - 19s 12ms/step - loss: 0.1779 - accuracy: 0.9249 - val_loss: 0.2494 - val_accuracy: 0.9055\n",
            "Epoch 45/50\n",
            "1575/1575 [==============================] - 19s 12ms/step - loss: 0.1792 - accuracy: 0.9231 - val_loss: 0.2505 - val_accuracy: 0.9040\n",
            "Epoch 46/50\n",
            "1575/1575 [==============================] - 18s 11ms/step - loss: 0.1753 - accuracy: 0.9245 - val_loss: 0.2509 - val_accuracy: 0.9045\n",
            "Epoch 47/50\n",
            "1575/1575 [==============================] - 18s 12ms/step - loss: 0.1725 - accuracy: 0.9265 - val_loss: 0.2506 - val_accuracy: 0.9036\n",
            "Epoch 48/50\n",
            "1575/1575 [==============================] - 19s 12ms/step - loss: 0.1785 - accuracy: 0.9233 - val_loss: 0.2485 - val_accuracy: 0.9045\n",
            "Epoch 49/50\n",
            "1575/1575 [==============================] - 19s 12ms/step - loss: 0.1740 - accuracy: 0.9248 - val_loss: 0.2507 - val_accuracy: 0.9046\n",
            "Epoch 50/50\n",
            "1575/1575 [==============================] - 19s 12ms/step - loss: 0.1714 - accuracy: 0.9255 - val_loss: 0.2493 - val_accuracy: 0.9041\n"
          ],
          "name": "stdout"
        },
        {
          "output_type": "execute_result",
          "data": {
            "text/plain": [
              "<keras.callbacks.History at 0x7f6aeca0f450>"
            ]
          },
          "metadata": {
            "tags": []
          },
          "execution_count": 19
        }
      ]
    },
    {
      "cell_type": "code",
      "metadata": {
        "colab": {
          "base_uri": "https://localhost:8080/",
          "height": 665,
          "referenced_widgets": [
            "65b5660099e548ed85cabcd6c67a8368",
            "0e6d693455064a0c805290c70fe6f15c",
            "6dd6a1ec48d347569d9a4dfcd1877672",
            "b7475fe93d4f4594ba9b653a688014c1",
            "84d333ed6b664fc18ce07a3a095dd19f",
            "0932fa00cd5f4e89aa56da93857262d8",
            "82dbc779013540b39a49628efb058c54",
            "55fca2a18f3845d1b4f344b831a288c5"
          ]
        },
        "id": "_F_rfe3gIbbt",
        "outputId": "e5c0606d-901f-475e-b8a5-973dca92aac7"
      },
      "source": [
        "run.finish()"
      ],
      "execution_count": null,
      "outputs": [
        {
          "output_type": "display_data",
          "data": {
            "text/html": [
              "<br/>Waiting for W&B process to finish, PID 141<br/>Program ended successfully."
            ],
            "text/plain": [
              "<IPython.core.display.HTML object>"
            ]
          },
          "metadata": {
            "tags": []
          }
        },
        {
          "output_type": "display_data",
          "data": {
            "application/vnd.jupyter.widget-view+json": {
              "model_id": "65b5660099e548ed85cabcd6c67a8368",
              "version_minor": 0,
              "version_major": 2
            },
            "text/plain": [
              "VBox(children=(Label(value=' 1.05MB of 1.05MB uploaded (0.00MB deduped)\\r'), FloatProgress(value=1.0, max=1.0)…"
            ]
          },
          "metadata": {
            "tags": []
          }
        },
        {
          "output_type": "display_data",
          "data": {
            "text/html": [
              "Find user logs for this run at: <code>/content/wandb/run-20210724_102240-1rqy76io/logs/debug.log</code>"
            ],
            "text/plain": [
              "<IPython.core.display.HTML object>"
            ]
          },
          "metadata": {
            "tags": []
          }
        },
        {
          "output_type": "display_data",
          "data": {
            "text/html": [
              "Find internal logs for this run at: <code>/content/wandb/run-20210724_102240-1rqy76io/logs/debug-internal.log</code>"
            ],
            "text/plain": [
              "<IPython.core.display.HTML object>"
            ]
          },
          "metadata": {
            "tags": []
          }
        },
        {
          "output_type": "display_data",
          "data": {
            "text/html": [
              "<h3>Run summary:</h3><br/><style>\n",
              "    table.wandb td:nth-child(1) { padding: 0 10px; text-align: right }\n",
              "    </style><table class=\"wandb\">\n",
              "<tr><td>epoch</td><td>49</td></tr><tr><td>loss</td><td>0.17165</td></tr><tr><td>accuracy</td><td>0.92539</td></tr><tr><td>val_loss</td><td>0.2493</td></tr><tr><td>val_accuracy</td><td>0.90411</td></tr><tr><td>_runtime</td><td>1212</td></tr><tr><td>_timestamp</td><td>1627123372</td></tr><tr><td>_step</td><td>49</td></tr><tr><td>best_val_loss</td><td>0.24847</td></tr><tr><td>best_epoch</td><td>47</td></tr></table>"
            ],
            "text/plain": [
              "<IPython.core.display.HTML object>"
            ]
          },
          "metadata": {
            "tags": []
          }
        },
        {
          "output_type": "display_data",
          "data": {
            "text/html": [
              "<h3>Run history:</h3><br/><style>\n",
              "    table.wandb td:nth-child(1) { padding: 0 10px; text-align: right }\n",
              "    </style><table class=\"wandb\">\n",
              "<tr><td>epoch</td><td>▁▁▁▁▂▂▂▂▂▃▃▃▃▃▃▄▄▄▄▄▅▅▅▅▅▅▆▆▆▆▆▆▇▇▇▇▇███</td></tr><tr><td>loss</td><td>█▄▃▃▃▃▂▂▂▂▂▂▂▂▂▂▁▁▁▁▁▁▁▁▁▁▁▁▁▁▁▁▁▁▁▁▁▁▁▁</td></tr><tr><td>accuracy</td><td>▁▅▅▅▆▆▆▆▆▇▇▇▇▇▇▇▇▇▇▇████████████████████</td></tr><tr><td>val_loss</td><td>█▄▄▃▂▂▂▂▂▁▂▁▁▁▁▁▁▁▁▁▁▁▁▁▁▁▁▁▁▁▁▁▁▁▁▁▁▁▁▁</td></tr><tr><td>val_accuracy</td><td>▁▅▅▆▆▆▇▇▇▇▇▇▇███▇███████████████████████</td></tr><tr><td>_runtime</td><td>▁▁▁▂▂▂▂▂▃▃▃▃▃▃▄▄▄▄▄▄▅▅▅▅▅▅▆▆▆▆▆▆▇▇▇▇▇███</td></tr><tr><td>_timestamp</td><td>▁▁▁▂▂▂▂▂▃▃▃▃▃▃▄▄▄▄▄▄▅▅▅▅▅▅▆▆▆▆▆▆▇▇▇▇▇███</td></tr><tr><td>_step</td><td>▁▁▁▁▂▂▂▂▂▃▃▃▃▃▃▄▄▄▄▄▅▅▅▅▅▅▆▆▆▆▆▆▇▇▇▇▇███</td></tr></table><br/>"
            ],
            "text/plain": [
              "<IPython.core.display.HTML object>"
            ]
          },
          "metadata": {
            "tags": []
          }
        },
        {
          "output_type": "display_data",
          "data": {
            "text/html": [
              "Synced 5 W&B file(s), 1 media file(s), 18 artifact file(s) and 2 other file(s)"
            ],
            "text/plain": [
              "<IPython.core.display.HTML object>"
            ]
          },
          "metadata": {
            "tags": []
          }
        },
        {
          "output_type": "display_data",
          "data": {
            "text/html": [
              "\n",
              "                    <br/>Synced <strong style=\"color:#cdcd00\">wobbly-vortex-14</strong>: <a href=\"https://wandb.ai/supreethrao/DeepCAPTCHA/runs/1rqy76io\" target=\"_blank\">https://wandb.ai/supreethrao/DeepCAPTCHA/runs/1rqy76io</a><br/>\n",
              "                "
            ],
            "text/plain": [
              "<IPython.core.display.HTML object>"
            ]
          },
          "metadata": {
            "tags": []
          }
        }
      ]
    },
    {
      "cell_type": "markdown",
      "metadata": {
        "id": "5PDSPJePuidl"
      },
      "source": [
        "The model is saved in the `saved_model` format and downloaded for use as part of the larger project."
      ]
    },
    {
      "cell_type": "code",
      "metadata": {
        "id": "ughhHjrLg26E"
      },
      "source": [
        "model.save('CAPTCHA-Model')"
      ],
      "execution_count": null,
      "outputs": []
    },
    {
      "cell_type": "code",
      "metadata": {
        "id": "byXVltIymdV8"
      },
      "source": [
        "!zip -r /content/CAPTCHA.zip /content/CAPTCHA-Model"
      ],
      "execution_count": null,
      "outputs": []
    },
    {
      "cell_type": "code",
      "metadata": {
        "colab": {
          "base_uri": "https://localhost:8080/",
          "height": 17
        },
        "id": "ZFAedABbm8VD",
        "outputId": "166dd19a-4586-40b3-e003-edf9b39dca63"
      },
      "source": [
        "from google.colab import files\n",
        "files.download(\"/content/CAPTCHA.zip\")"
      ],
      "execution_count": null,
      "outputs": [
        {
          "output_type": "display_data",
          "data": {
            "application/javascript": [
              "\n",
              "    async function download(id, filename, size) {\n",
              "      if (!google.colab.kernel.accessAllowed) {\n",
              "        return;\n",
              "      }\n",
              "      const div = document.createElement('div');\n",
              "      const label = document.createElement('label');\n",
              "      label.textContent = `Downloading \"${filename}\": `;\n",
              "      div.appendChild(label);\n",
              "      const progress = document.createElement('progress');\n",
              "      progress.max = size;\n",
              "      div.appendChild(progress);\n",
              "      document.body.appendChild(div);\n",
              "\n",
              "      const buffers = [];\n",
              "      let downloaded = 0;\n",
              "\n",
              "      const channel = await google.colab.kernel.comms.open(id);\n",
              "      // Send a message to notify the kernel that we're ready.\n",
              "      channel.send({})\n",
              "\n",
              "      for await (const message of channel.messages) {\n",
              "        // Send a message to notify the kernel that we're ready.\n",
              "        channel.send({})\n",
              "        if (message.buffers) {\n",
              "          for (const buffer of message.buffers) {\n",
              "            buffers.push(buffer);\n",
              "            downloaded += buffer.byteLength;\n",
              "            progress.value = downloaded;\n",
              "          }\n",
              "        }\n",
              "      }\n",
              "      const blob = new Blob(buffers, {type: 'application/binary'});\n",
              "      const a = document.createElement('a');\n",
              "      a.href = window.URL.createObjectURL(blob);\n",
              "      a.download = filename;\n",
              "      div.appendChild(a);\n",
              "      a.click();\n",
              "      div.remove();\n",
              "    }\n",
              "  "
            ],
            "text/plain": [
              "<IPython.core.display.Javascript object>"
            ]
          },
          "metadata": {
            "tags": []
          }
        },
        {
          "output_type": "display_data",
          "data": {
            "application/javascript": [
              "download(\"download_971e3d87-fa0a-48af-b7fb-20b390cf17fa\", \"CAPTCHA.zip\", 30999517)"
            ],
            "text/plain": [
              "<IPython.core.display.Javascript object>"
            ]
          },
          "metadata": {
            "tags": []
          }
        }
      ]
    }
  ]
}